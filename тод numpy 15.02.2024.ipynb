{
 "cells": [
  {
   "cell_type": "markdown",
   "id": "27d1d1be",
   "metadata": {},
   "source": [
    "1. Сгенерировать двухмерный массив arr размерности (4, 7), состоящий из случайных действительных чисел, равномерно распределенных в диапазоне от 0 до 20. Нормализовать значения массива с помощью преобразования вида ах + b так, что после нормализации максимальный элемент массива будет равен 1.0, минимальный 0.0"
   ]
  },
  {
   "cell_type": "code",
   "execution_count": 1,
   "id": "9b031cba",
   "metadata": {},
   "outputs": [
    {
     "name": "stdout",
     "output_type": "stream",
     "text": [
      "Исходный массив:\n",
      "[[ 1.49828212 17.27520051 16.12947088 15.6801237   1.63624802  7.47198845\n",
      "  12.81825454]\n",
      " [ 1.50544417  6.13886663  4.19384194 12.93980696  3.55376117  3.02441861\n",
      "   3.63022697]\n",
      " [ 7.51555265  7.27754304  6.07732038 16.28151634  4.75785682 17.84907343\n",
      "   5.70730164]\n",
      " [ 4.27872709  1.07432732  4.70276268 14.73783594 18.051814   14.40659436\n",
      "   5.06194528]]\n",
      "\n",
      "Нормализованный массив:\n",
      "[[0.02497159 0.95425627 0.88677104 0.8603038  0.03309799 0.37683205\n",
      "  0.69173532]\n",
      " [0.02539344 0.29830913 0.18374419 0.69889495 0.14604246 0.11486337\n",
      "  0.15054641]\n",
      " [0.37939805 0.36537892 0.29468396 0.89572675 0.21696554 0.98805827\n",
      "  0.27288929]\n",
      " [0.18874406 0.         0.21372041 0.80480161 1.         0.78529097\n",
      "  0.23487681]]\n",
      "\n",
      "Минимальное значение после нормализации: 0.0\n",
      "Максимальное значение после нормализации: 1.0\n"
     ]
    }
   ],
   "source": [
    "import numpy as np\n",
    "\n",
    "arr = np.random.uniform(0, 20, (4, 7))\n",
    "\n",
    "min_val = np.min(arr)\n",
    "max_val = np.max(arr)\n",
    "\n",
    "a = 1 / (max_val - min_val)\n",
    "b = -a * min_val\n",
    "\n",
    "arr_normalized = a * arr + b\n",
    "\n",
    "print(\"Исходный массив:\")\n",
    "print(arr)\n",
    "print(\"\\nНормализованный массив:\")\n",
    "print(arr_normalized)\n",
    "print(\"\\nМинимальное значение после нормализации:\", np.min(arr_normalized))\n",
    "print(\"Максимальное значение после нормализации:\", np.max(arr_normalized))\n"
   ]
  },
  {
   "cell_type": "markdown",
   "id": "c0913ef2",
   "metadata": {},
   "source": [
    "2. Создать матрицу 8 на 10 из случайных целых (используя модуль numpy. random ) чисел из диапозона от 0 до 10 и найти в ней строку (ее индекс и вывести саму строку), в которой сумма значений минимальна."
   ]
  },
  {
   "cell_type": "code",
   "execution_count": 2,
   "id": "7535a8c2",
   "metadata": {},
   "outputs": [
    {
     "name": "stdout",
     "output_type": "stream",
     "text": [
      "Индекс строки с минимальной суммой значений: 6\n",
      "Строка с минимальной суммой значений: [2 7 2 0 2 1 8 8 3 8]\n"
     ]
    }
   ],
   "source": [
    "import numpy as np\n",
    "\n",
    "matrix = np.random.randint(0, 11, size=(8, 10))\n",
    "\n",
    "row_sum = np.sum(matrix, axis=1)\n",
    "min_sum_row_index = np.argmin(row_sum)\n",
    "min_sum_row = matrix[min_sum_row_index]\n",
    "\n",
    "print(\"Индекс строки с минимальной суммой значений:\", min_sum_row_index)\n",
    "print(\"Строка с минимальной суммой значений:\", min_sum_row)"
   ]
  },
  {
   "cell_type": "markdown",
   "id": "5d0cab2a",
   "metadata": {},
   "source": [
    "3. Найти евклидово расстояние между двумя одномерными векторами одинаковой размерности."
   ]
  },
  {
   "cell_type": "code",
   "execution_count": 5,
   "id": "579f4857",
   "metadata": {},
   "outputs": [
    {
     "name": "stdout",
     "output_type": "stream",
     "text": [
      "Евклидово расстояние между векторами: 5.196152422706632\n"
     ]
    }
   ],
   "source": [
    "import numpy as np\n",
    "\n",
    "vector1 = np.array([1, 2, 3])\n",
    "vector2 = np.array([4, 5, 6])\n",
    "\n",
    "distance = np.sqrt(np.sum((vector1 - vector2)**2))\n",
    "\n",
    "print(\"Евклидово расстояние между векторами:\", distance)"
   ]
  },
  {
   "cell_type": "markdown",
   "id": "1e1bb021",
   "metadata": {},
   "source": [
    "4. Решить матричное уравнение АХВ=-С - найти матрицу Х. Где А = [-1, 2, 4], [-3, 1, 2], [-3, 0, 1]], В=[[3, -1], [2, 1]], С=[[7, 21], [11, 8], [8, 4]]"
   ]
  },
  {
   "cell_type": "code",
   "execution_count": 6,
   "id": "c543c235",
   "metadata": {},
   "outputs": [
    {
     "name": "stdout",
     "output_type": "stream",
     "text": [
      "Матрица X:\n",
      "[[ 1.00000000e+00  5.32907052e-16]\n",
      " [-2.00000000e+00  1.00000000e+00]\n",
      " [ 3.00000000e+00 -4.00000000e+00]]\n"
     ]
    }
   ],
   "source": [
    "import numpy as np\n",
    "\n",
    "A = np.array([[-1, 2, 4], [-3, 1, 2], [-3, 0, 1]])\n",
    "B = np.array([[3, -1], [2, 1]])\n",
    "C = np.array([[7, 21], [11, 8], [8, 4]])\n",
    "\n",
    "A_inv = np.linalg.inv(A)\n",
    "B_inv = np.linalg.inv(B)\n",
    "\n",
    "X = np.dot(np.dot(A_inv, -C), B_inv)\n",
    "\n",
    "print(\"Матрица X:\")\n",
    "print(X)\n"
   ]
  },
  {
   "cell_type": "markdown",
   "id": "3887c443",
   "metadata": {},
   "source": [
    "Лабораторная работа №1"
   ]
  },
  {
   "cell_type": "markdown",
   "id": "146672e7",
   "metadata": {},
   "source": [
    "1.  Файл minutes_n_ingredients.csv содержит информацию об идентификаторе рецепта, времени его выполнения в минутах и количестве необходимых ингредиентов. Считайте данные из этого файла в виде массива numpy типа int32, используя np.loadtxt. Выведите на экран первые 5 строк массива."
   ]
  },
  {
   "cell_type": "code",
   "execution_count": 8,
   "id": "9792f910",
   "metadata": {
    "scrolled": true
   },
   "outputs": [
    {
     "name": "stdout",
     "output_type": "stream",
     "text": [
      "[[ 23891     25      7]\n",
      " [ 94746     10      6]\n",
      " [ 67660      5      6]\n",
      " [157911     60     14]\n",
      " [152828     40      7]]\n"
     ]
    }
   ],
   "source": [
    "import numpy as np\n",
    "\n",
    "data = np.loadtxt(\"minutes_n_ingredients.csv\", delimiter=\";\", skiprows=1, dtype=np.int32)\n",
    "\n",
    "print(data[:5])"
   ]
  },
  {
   "cell_type": "markdown",
   "id": "2296ae3e",
   "metadata": {},
   "source": [
    "2. Вычислите среднее значение, минимум, максимум и медиану по каждому из столбцов, кроме первого."
   ]
  },
  {
   "cell_type": "code",
   "execution_count": 9,
   "id": "252d6cbc",
   "metadata": {},
   "outputs": [
    {
     "name": "stdout",
     "output_type": "stream",
     "text": [
      "Среднее значение по столбцам:\n",
      "[2.22065272e+05 2.16012171e+04 9.05521055e+00]\n",
      "\n",
      "Минимум по столбцам:\n",
      "[38.  0.  1.]\n",
      "\n",
      "Максимум по столбцам:\n",
      "[5.37671000e+05 2.14748365e+09 3.90000000e+01]\n",
      "\n",
      "Медиана по столбцам:\n",
      "[2.07196e+05 4.00000e+01 9.00000e+00]\n"
     ]
    }
   ],
   "source": [
    "import numpy as np\n",
    "\n",
    "data = np.genfromtxt('minutes_n_ingredients.csv', delimiter=';', skip_header=1)\n",
    "\n",
    "mean_values = np.mean(data, axis=0)\n",
    "\n",
    "min_values = np.min(data, axis=0)\n",
    "\n",
    "max_values = np.max(data, axis=0)\n",
    "\n",
    "median_values = np.median(data, axis=0)\n",
    "\n",
    "print(\"Среднее значение по столбцам:\")\n",
    "print(mean_values)\n",
    "print(\"\\nМинимум по столбцам:\")\n",
    "print(min_values)\n",
    "print(\"\\nМаксимум по столбцам:\")\n",
    "print(max_values)\n",
    "print(\"\\nМедиана по столбцам:\")\n",
    "print(median_values)"
   ]
  },
  {
   "cell_type": "markdown",
   "id": "a76b75da",
   "metadata": {},
   "source": [
    "3. Ограничьте сверху значения продолжительности выполнения рецепта значением квантиля q0.75."
   ]
  },
  {
   "cell_type": "code",
   "execution_count": 10,
   "id": "41619b67",
   "metadata": {},
   "outputs": [
    {
     "name": "stdout",
     "output_type": "stream",
     "text": [
      "Квантиль q0.75: 65.0\n",
      "Продолжительность выполнения рецептов после ограничения:\n",
      "[25. 10.  5. ... 65.  5. 65.]\n"
     ]
    }
   ],
   "source": [
    "import numpy as np\n",
    "\n",
    "data = np.genfromtxt('minutes_n_ingredients.csv', delimiter=';', skip_header=1)\n",
    "\n",
    "minutes = data[:, 1]\n",
    "\n",
    "q75 = np.quantile(minutes, 0.75)\n",
    "\n",
    "minutes_limited = np.minimum(minutes, q75)\n",
    "\n",
    "print(\"Квантиль q0.75:\", q75)\n",
    "print(\"Продолжительность выполнения рецептов после ограничения:\")\n",
    "print(minutes_limited)"
   ]
  },
  {
   "cell_type": "markdown",
   "id": "7a4446ee",
   "metadata": {},
   "source": [
    "4. Посчитайте, для скольких рецептов указана продолжительность, равная нулю. Замените для таких строк значение в данном столбце на 1."
   ]
  },
  {
   "cell_type": "code",
   "execution_count": 12,
   "id": "5746c584",
   "metadata": {},
   "outputs": [
    {
     "name": "stdout",
     "output_type": "stream",
     "text": [
      "Количество рецептов с продолжительностью выполнения, равной нулю: 479\n",
      "Продолжительность выполнения рецептов после замены:\n",
      "[ 25.  10.   5. ...  65.   5. 140.]\n"
     ]
    }
   ],
   "source": [
    "import numpy as np\n",
    "\n",
    "data = np.genfromtxt('minutes_n_ingredients.csv', delimiter=';', skip_header=1)\n",
    "\n",
    "minutes = data[:, 1]\n",
    "\n",
    "zero_duration_count = np.count_nonzero(minutes == 0)\n",
    "\n",
    "minutes[minutes == 0] = 1\n",
    "\n",
    "print(\"Количество рецептов с продолжительностью выполнения, равной нулю:\", zero_duration_count)\n",
    "print(\"Продолжительность выполнения рецептов после замены:\")\n",
    "print(minutes)"
   ]
  },
  {
   "cell_type": "markdown",
   "id": "da477c18",
   "metadata": {},
   "source": [
    "5. Посчитайте, сколько уникальных рецептов находится в датасете."
   ]
  },
  {
   "cell_type": "code",
   "execution_count": 14,
   "id": "a7e43e77",
   "metadata": {},
   "outputs": [
    {
     "name": "stdout",
     "output_type": "stream",
     "text": [
      "Количество уникальных рецептов в датасете: 99999\n"
     ]
    }
   ],
   "source": [
    "import numpy as np\n",
    "\n",
    "data = np.genfromtxt('minutes_n_ingredients.csv', delimiter=';', skip_header=1)\n",
    "\n",
    "recipe_ids = data[:, 0]\n",
    "\n",
    "unique_recipe_count = len(np.unique(recipe_ids))\n",
    "\n",
    "print(\"Количество уникальных рецептов в датасете:\", unique_recipe_count)\n"
   ]
  },
  {
   "cell_type": "markdown",
   "id": "b73eb411",
   "metadata": {},
   "source": [
    "6. Сколько и каких различных значений кол-ва ингредиентов присутвует в рецептах из датасета?"
   ]
  },
  {
   "cell_type": "code",
   "execution_count": 16,
   "id": "5228a84c",
   "metadata": {},
   "outputs": [
    {
     "name": "stdout",
     "output_type": "stream",
     "text": [
      "Различные значения количества ингредиентов в рецептах:\n",
      "1 ингредиентов: 13 рецептов\n",
      "2 ингредиентов: 926 рецептов\n",
      "3 ингредиентов: 2895 рецептов\n",
      "4 ингредиентов: 5515 рецептов\n",
      "5 ингредиентов: 7913 рецептов\n",
      "6 ингредиентов: 9376 рецептов\n",
      "7 ингредиентов: 10628 рецептов\n",
      "8 ингредиентов: 10951 рецептов\n",
      "9 ингредиентов: 10585 рецептов\n",
      "10 ингредиентов: 9591 рецептов\n",
      "11 ингредиентов: 8297 рецептов\n",
      "12 ингредиентов: 6605 рецептов\n",
      "13 ингредиентов: 4997 рецептов\n",
      "14 ингредиентов: 3663 рецептов\n",
      "15 ингредиентов: 2595 рецептов\n",
      "16 ингредиентов: 1766 рецептов\n",
      "17 ингредиентов: 1246 рецептов\n",
      "18 ингредиентов: 790 рецептов\n",
      "19 ингредиентов: 573 рецептов\n",
      "20 ингредиентов: 376 рецептов\n",
      "21 ингредиентов: 217 рецептов\n",
      "22 ингредиентов: 161 рецептов\n",
      "23 ингредиентов: 105 рецептов\n",
      "24 ингредиентов: 69 рецептов\n",
      "25 ингредиентов: 50 рецептов\n",
      "26 ингредиентов: 28 рецептов\n",
      "27 ингредиентов: 16 рецептов\n",
      "28 ингредиентов: 16 рецептов\n",
      "29 ингредиентов: 12 рецептов\n",
      "30 ингредиентов: 12 рецептов\n",
      "31 ингредиентов: 3 рецептов\n",
      "32 ингредиентов: 1 рецептов\n",
      "33 ингредиентов: 2 рецептов\n",
      "34 ингредиентов: 1 рецептов\n",
      "35 ингредиентов: 3 рецептов\n",
      "37 ингредиентов: 1 рецептов\n",
      "39 ингредиентов: 1 рецептов\n"
     ]
    }
   ],
   "source": [
    "import numpy as np\n",
    "\n",
    "data = np.genfromtxt('minutes_n_ingredients.csv', delimiter=';', skip_header=1)\n",
    "\n",
    "ingredient_counts = data[:, 2]\n",
    "\n",
    "unique_ingredient_counts, counts = np.unique(ingredient_counts, return_counts=True)\n",
    "\n",
    "print(\"Различные значения количества ингредиентов в рецептах:\")\n",
    "for count, freq in zip(unique_ingredient_counts, counts):\n",
    "    print(f\"{int(count)} ингредиентов: {freq} рецептов\")\n"
   ]
  },
  {
   "cell_type": "markdown",
   "id": "88113d66",
   "metadata": {},
   "source": [
    "7. Создайте версию массива, содержащую информацию только о рецептах, состоящих не более чем из 5 ингредиентов."
   ]
  },
  {
   "cell_type": "code",
   "execution_count": 15,
   "id": "104f4379",
   "metadata": {},
   "outputs": [
    {
     "name": "stdout",
     "output_type": "stream",
     "text": [
      "Первые 5 строк данных для рецептов с не более чем 5 ингредиентами:\n",
      "[[4.46597e+05 1.50000e+01 5.00000e+00]\n",
      " [2.04134e+05 5.00000e+00 3.00000e+00]\n",
      " [2.56230e+04 6.00000e+00 4.00000e+00]\n",
      " [4.84223e+05 1.80000e+01 4.00000e+00]\n",
      " [6.31500e+04 2.50000e+02 4.00000e+00]]\n"
     ]
    }
   ],
   "source": [
    "import numpy as np\n",
    "\n",
    "data = np.genfromtxt('minutes_n_ingredients.csv', delimiter=';', skip_header=1)\n",
    "\n",
    "ingredient_counts = data[:, 2]\n",
    "\n",
    "filtered_data = data[ingredient_counts <= 5]\n",
    "\n",
    "print(\"Первые 5 строк данных для рецептов с не более чем 5 ингредиентами:\")\n",
    "print(filtered_data[:5])"
   ]
  },
  {
   "cell_type": "markdown",
   "id": "005549bc",
   "metadata": {},
   "source": [
    "8. Для каждого рецепта посчитайте, сколько в среднем ингредиентов приходится на одну минуту рецепта. Найдите максимальное значение этой величины для всего датасета"
   ]
  },
  {
   "cell_type": "code",
   "execution_count": 17,
   "id": "f66b23b5",
   "metadata": {},
   "outputs": [
    {
     "name": "stdout",
     "output_type": "stream",
     "text": [
      "Максимальное среднее количество ингредиентов на одну минуту: inf\n"
     ]
    },
    {
     "name": "stderr",
     "output_type": "stream",
     "text": [
      "C:\\Users\\233490\\AppData\\Local\\Temp\\ipykernel_13100\\3948787432.py:8: RuntimeWarning: divide by zero encountered in divide\n",
      "  average_ingredients_per_minute = ingredient_counts / times\n"
     ]
    }
   ],
   "source": [
    "import numpy as np\n",
    "\n",
    "data = np.genfromtxt('minutes_n_ingredients.csv', delimiter=';', skip_header=1)\n",
    "\n",
    "times = data[:, 1]\n",
    "ingredient_counts = data[:, 2]\n",
    "\n",
    "average_ingredients_per_minute = ingredient_counts / times\n",
    "\n",
    "max_average_ingredients_per_minute = np.max(average_ingredients_per_minute)\n",
    "\n",
    "print(f\"Максимальное среднее количество ингредиентов на одну минуту: {max_average_ingredients_per_minute}\")"
   ]
  },
  {
   "cell_type": "markdown",
   "id": "1dda33e3",
   "metadata": {},
   "source": [
    "9. Вычислите среднее количество ингредиентов для топ-100 рецептов с наибольшей продолжительностью"
   ]
  },
  {
   "cell_type": "code",
   "execution_count": 18,
   "id": "609bbe2a",
   "metadata": {},
   "outputs": [
    {
     "name": "stdout",
     "output_type": "stream",
     "text": [
      "Среднее количество ингредиентов для топ-100 рецептов с наибольшей продолжительностью: 6.63\n"
     ]
    }
   ],
   "source": [
    "import numpy as np\n",
    "\n",
    "data = np.genfromtxt('minutes_n_ingredients.csv', delimiter=';', skip_header=1)\n",
    "\n",
    "sorted_data = data[data[:, 1].argsort()][::-1]\n",
    "\n",
    "top_100_data = sorted_data[:100]\n",
    "\n",
    "ingredient_counts_top_100 = top_100_data[:, 2]\n",
    "\n",
    "average_ingredient_count_top_100 = np.mean(ingredient_counts_top_100)\n",
    "\n",
    "print(f\"Среднее количество ингредиентов для топ-100 рецептов с наибольшей продолжительностью: {average_ingredient_count_top_100}\")"
   ]
  },
  {
   "cell_type": "markdown",
   "id": "348e96cb",
   "metadata": {},
   "source": [
    "10. Выберите случайным образом и выведите информацию о 10 различных рецептах"
   ]
  },
  {
   "cell_type": "code",
   "execution_count": 20,
   "id": "2bbbd3cd",
   "metadata": {},
   "outputs": [
    {
     "name": "stdout",
     "output_type": "stream",
     "text": [
      "        127244;60;16\n",
      "92519    288706;46;5\n",
      "36784   201561;70;10\n",
      "14724  315030;145;10\n",
      "6278     70696;60;12\n",
      "53902     36091;5;10\n",
      "63364    88198;255;3\n",
      "70237     95620;25;7\n",
      "47776    344342;70;5\n",
      "99182     21011;45;6\n",
      "61526     93147;50;6\n"
     ]
    }
   ],
   "source": [
    "import numpy as np\n",
    "import pandas as pd\n",
    "\n",
    "data = pd.read_csv('minutes_n_ingredients.csv')\n",
    "\n",
    "num_recipes = len(data)\n",
    "\n",
    "random_indices = np.random.choice(num_recipes, 10, replace=False)\n",
    "\n",
    "selected_recipes = data.iloc[random_indices]\n",
    "print(selected_recipes)\n"
   ]
  },
  {
   "cell_type": "markdown",
   "id": "ef337918",
   "metadata": {},
   "source": [
    "11. Выведите процент рецептов, кол-во ингредиентов в которых меньше среднего."
   ]
  },
  {
   "cell_type": "code",
   "execution_count": 29,
   "id": "f19834fc",
   "metadata": {},
   "outputs": [
    {
     "name": "stdout",
     "output_type": "stream",
     "text": [
      "процент рецептов, кол-во ингредиентов в которых меньше среднего = 58.802588025880254%\n"
     ]
    }
   ],
   "source": [
    "import numpy as np \n",
    "recep = np.loadtxt(\"minutes_n_ingredients.csv\", skiprows=1, dtype=\"int32\", delimiter=\";\")\n",
    "print(f\"процент рецептов, кол-во ингредиентов в которых меньше среднего = {np.mean(recep[:, 2] < np.mean(recep[:, 2])) * 100}%\")"
   ]
  },
  {
   "cell_type": "markdown",
   "id": "62dc5344",
   "metadata": {},
   "source": [
    "12. Назовем \"простым\" такой рецепт, длительность выполнения которого не больше 20 минут и кол-во ингредиентов в котором не больше 5. Создайте версию датасета с дополнительным столбцом, значениями которого являются 1, если рецепт простой, и 0 в противном случае.\n"
   ]
  },
  {
   "cell_type": "code",
   "execution_count": 30,
   "id": "95c7b9cd",
   "metadata": {},
   "outputs": [
    {
     "ename": "NameError",
     "evalue": "name 'arr2' is not defined",
     "output_type": "error",
     "traceback": [
      "\u001b[1;31m---------------------------------------------------------------------------\u001b[0m",
      "\u001b[1;31mNameError\u001b[0m                                 Traceback (most recent call last)",
      "Cell \u001b[1;32mIn[30], line 1\u001b[0m\n\u001b[1;32m----> 1\u001b[0m simple \u001b[38;5;241m=\u001b[39m ((\u001b[43marr2\u001b[49m[:, \u001b[38;5;241m1\u001b[39m] \u001b[38;5;241m<\u001b[39m\u001b[38;5;241m=\u001b[39m \u001b[38;5;241m20\u001b[39m) \u001b[38;5;241m&\u001b[39m (arr2[:, \u001b[38;5;241m2\u001b[39m] \u001b[38;5;241m<\u001b[39m\u001b[38;5;241m=\u001b[39m \u001b[38;5;241m5\u001b[39m))\n\u001b[0;32m      2\u001b[0m \u001b[38;5;28mprint\u001b[39m(simple)\n\u001b[0;32m      3\u001b[0m \u001b[38;5;28mprint\u001b[39m(simple\u001b[38;5;241m.\u001b[39mastype(\u001b[38;5;28mint\u001b[39m), end\u001b[38;5;241m=\u001b[39m\u001b[38;5;124m'\u001b[39m\u001b[38;5;130;01m\\n\u001b[39;00m\u001b[38;5;130;01m\\n\u001b[39;00m\u001b[38;5;124m'\u001b[39m)\n",
      "\u001b[1;31mNameError\u001b[0m: name 'arr2' is not defined"
     ]
    }
   ],
   "source": [
    "simple = ((arr2[:, 1] <= 20) & (arr2[:, 2] <= 5))\n",
    "print(simple)\n",
    "print(simple.astype(int), end='\\n\\n')\n",
    "\n",
    "new_arr2 = np.column_stack((arr2, simple))\n",
    "print(new_arr2)"
   ]
  },
  {
   "cell_type": "markdown",
   "id": "56f6af18",
   "metadata": {},
   "source": [
    "13. Выведите процент \"простых\" рецептов в датасете"
   ]
  },
  {
   "cell_type": "code",
   "execution_count": 31,
   "id": "eeb30af7",
   "metadata": {},
   "outputs": [
    {
     "ename": "NameError",
     "evalue": "name 'simple_recept' is not defined",
     "output_type": "error",
     "traceback": [
      "\u001b[1;31m---------------------------------------------------------------------------\u001b[0m",
      "\u001b[1;31mNameError\u001b[0m                                 Traceback (most recent call last)",
      "Cell \u001b[1;32mIn[31], line 1\u001b[0m\n\u001b[1;32m----> 1\u001b[0m simple_recept_count \u001b[38;5;241m=\u001b[39m np\u001b[38;5;241m.\u001b[39msum(\u001b[43msimple_recept\u001b[49m)\n\u001b[0;32m      2\u001b[0m procent_simple_recept \u001b[38;5;241m=\u001b[39m (simple_recept_count \u001b[38;5;241m/\u001b[39m \u001b[38;5;28mlen\u001b[39m(file)) \u001b[38;5;241m*\u001b[39m \u001b[38;5;241m100\u001b[39m\n\u001b[0;32m      3\u001b[0m \u001b[38;5;28mprint\u001b[39m(\u001b[38;5;124mf\u001b[39m\u001b[38;5;124m\"\u001b[39m\u001b[38;5;124mПроцент простых рецептов в датасете: \u001b[39m\u001b[38;5;132;01m{\u001b[39;00mprocent_simple_recept\u001b[38;5;132;01m}\u001b[39;00m\u001b[38;5;124m%\u001b[39m\u001b[38;5;124m\"\u001b[39m)\n",
      "\u001b[1;31mNameError\u001b[0m: name 'simple_recept' is not defined"
     ]
    }
   ],
   "source": [
    "simple_recept_count = np.sum(simple_recept)\n",
    "procent_simple_recept = (simple_recept_count / len(file)) * 100\n",
    "print(f\"Процент простых рецептов в датасете: {procent_simple_recept}%\")"
   ]
  },
  {
   "cell_type": "markdown",
   "id": "8e50f237",
   "metadata": {},
   "source": [
    "14. Разделим рецепты на группы по следующему правилу. Назовем рецепты короткими, если их продолжительность составляет менее 10 минут: стандартными, если их продолжительность составляет более 10, но менее 20 минут, и длинными, если их продолжительность составляет не менее 20 минут. Создайте трехмерный массив, где нулевая ось отвечает за номер группы (короткий, стандартный или длинный рецепт), первая ось - за сам рецепт и вторая ось - за характеристики рецепта. Выберите максимальное количество рецептов из каждой группы таким образом, чтобы было возможно сформировать трехмерный массив. Выведите форму полученного массива."
   ]
  },
  {
   "cell_type": "code",
   "execution_count": null,
   "id": "ddf47a87",
   "metadata": {},
   "outputs": [],
   "source": []
  }
 ],
 "metadata": {
  "kernelspec": {
   "display_name": "Python 3 (ipykernel)",
   "language": "python",
   "name": "python3"
  },
  "language_info": {
   "codemirror_mode": {
    "name": "ipython",
    "version": 3
   },
   "file_extension": ".py",
   "mimetype": "text/x-python",
   "name": "python",
   "nbconvert_exporter": "python",
   "pygments_lexer": "ipython3",
   "version": "3.10.9"
  }
 },
 "nbformat": 4,
 "nbformat_minor": 5
}
