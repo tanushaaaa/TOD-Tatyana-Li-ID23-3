{
  "cells": [
    {
      "cell_type": "markdown",
      "metadata": {
        "id": "Ih5VP2dPPNvH"
      },
      "source": [
        "# Работа с Excel"
      ]
    },
    {
      "cell_type": "markdown",
      "metadata": {
        "id": "Xmc4wI6dPNvI"
      },
      "source": [
        "Материалы:\n",
        "* Макрушин С.В. Лекция 7: Работа с Excel\n",
        "* https://docs.xlwings.org/en/stable/quickstart.html\n",
        "* https://nbviewer.jupyter.org/github/pybokeh/jupyter_notebooks/blob/master/xlwings/Excel_Formatting.ipynb#search_text\n"
      ]
    },
    {
      "cell_type": "markdown",
      "metadata": {
        "id": "g0mPsN1OPNvJ"
      },
      "source": [
        "## Задачи для совместного разбора"
      ]
    },
    {
      "cell_type": "markdown",
      "metadata": {
        "id": "96sjhXEmPNvJ"
      },
      "source": [
        "1. На листе \"Рецептура\" файла `себестоимостьА_в1.xlsx` для области \"Пшеничный хлеб\" рассчитать себестоимость всех видов продукции."
      ]
    },
    {
      "cell_type": "code",
      "execution_count": null,
      "metadata": {
        "id": "LoeK81JRm1UE",
        "outputId": "f44a5a95-d209-4a9b-a993-940fb55b9ffa"
      },
      "outputs": [
        {
          "name": "stdout",
          "output_type": "stream",
          "text": [
            "Requirement already satisfied: xlwings in c:\\users\\1\\anaconda3\\lib\\site-packages (0.27.15)\n",
            "Requirement already satisfied: pywin32>=224 in c:\\users\\1\\anaconda3\\lib\\site-packages (from xlwings) (302)\n",
            "Note: you may need to restart the kernel to use updated packages.\n"
          ]
        }
      ],
      "source": [
        "pip install xlwings\n"
      ]
    },
    {
      "cell_type": "code",
      "execution_count": null,
      "metadata": {
        "id": "gf2_X2KFm1UF",
        "outputId": "bd932add-72da-4290-f040-92324b5c34d1"
      },
      "outputs": [
        {
          "name": "stdout",
          "output_type": "stream",
          "text": [
            "Collecting package metadata (current_repodata.json): ...working... done\n",
            "Solving environment: ...working... done\n",
            "\n",
            "# All requested packages already installed.\n",
            "\n",
            "\n",
            "Note: you may need to restart the kernel to use updated packages.\n"
          ]
        }
      ],
      "source": [
        "conda install -c conda-forge xlwings"
      ]
    },
    {
      "cell_type": "code",
      "execution_count": null,
      "metadata": {
        "id": "P9EY1e89Zcmt"
      },
      "outputs": [],
      "source": [
        "import openpyxl\n",
        "import xlwings as xw\n",
        "\n",
        "\n",
        "\n"
      ]
    },
    {
      "cell_type": "code",
      "execution_count": null,
      "metadata": {
        "id": "8YypDIVhm1UG",
        "outputId": "c7d6e297-a7ba-4376-d819-e579e3d741df"
      },
      "outputs": [
        {
          "name": "stdout",
          "output_type": "stream",
          "text": [
            "Хлеб Венгерский 21.48\n",
            "Хлеб \"Барбари\" 16.525\n",
            "Багет парижский 17.423000000000002\n",
            "Чиабатта 18.085\n"
          ]
        }
      ],
      "source": [
        "wb = xw.Book('себестоимостьА_в1.xlsx')\n",
        "sht = wb.sheets['Рецептура']\n",
        "lines = [list(map(lambda x: x if x != None else 0, i)) for i in sht.range('G7:O10').value]\n",
        "cost = sht.range('G14:O14').value\n",
        "name = sht.range('C7:C10').value\n",
        "self_costs = []\n",
        "for i in range(4):\n",
        "    print(name[i], sum([k*j for k,j in zip(lines[i], cost)]))\n",
        "    self_costs.append(sum([k*j for k,j in zip(lines[i], cost)]))\n",
        "\n"
      ]
    },
    {
      "cell_type": "markdown",
      "metadata": {
        "id": "6UhsB89cPNvJ"
      },
      "source": [
        "2. Результаты расчетов 1.1 сохранить в отдельном столбце области \"Пшеничный хлеб\""
      ]
    },
    {
      "cell_type": "code",
      "execution_count": null,
      "metadata": {
        "id": "jqjTS1Mwm1UH",
        "outputId": "6ff6ee75-4af4-4eb4-d69a-2646dc759b33"
      },
      "outputs": [
        {
          "name": "stdout",
          "output_type": "stream",
          "text": [
            "None\n"
          ]
        }
      ],
      "source": [
        "sht.range('T7').options(transpose = True).value = self_costs\n",
        "sht.range('T6').value = 'Себестоимость' \n",
        "print(sht.range('T6').value)\n"
      ]
    },
    {
      "cell_type": "markdown",
      "metadata": {
        "id": "R-u5n_3EPNvK"
      },
      "source": [
        "3. Приблизить форматирование столбца, добавленного в задаче 2 к оформлению всей области.\n",
        "\n",
        "\n"
      ]
    },
    {
      "cell_type": "code",
      "execution_count": null,
      "metadata": {
        "id": "ApCK4jPtm1UI"
      },
      "outputs": [],
      "source": [
        "sht.range('T4:T6').merge()\n",
        "sht.range('T4:T6').color = (255,200,0)\n",
        "sht.range('T7:T13').color = (244,244,180)"
      ]
    },
    {
      "cell_type": "markdown",
      "metadata": {
        "id": "ZFF59STZPNvK"
      },
      "source": [
        "4. Выполнить 3 с помощью \"протягиваемых\" формул."
      ]
    },
    {
      "cell_type": "markdown",
      "metadata": {
        "id": "ULGcM-IQPNvK"
      },
      "source": [
        "## Лабораторная работа 7.1"
      ]
    },
    {
      "cell_type": "markdown",
      "metadata": {
        "id": "EzgT0kUGPNvL"
      },
      "source": [
        "1. Загрузите данные из файлов `reviews_sample.csv` (__ЛР2__) и `recipes_sample.csv` (__ЛР5__) в виде `pd.DataFrame`. Обратите внимание на корректное считывание столбца(ов) с индексами. Оставьте в таблице с рецептами следующие столбцы: `id`, `name`, `minutes`, `submitted`, `description`, `n_ingredients`"
      ]
    },
    {
      "cell_type": "code",
      "execution_count": null,
      "metadata": {
        "id": "YjPEgYuHm1UI",
        "outputId": "9ea77799-8e05-476c-e597-d7fdf9c96463"
      },
      "outputs": [
        {
          "name": "stdout",
          "output_type": "stream",
          "text": [
            "Requirement already satisfied: pandas in c:\\users\\1\\anaconda3\\lib\\site-packages (1.4.4)\n",
            "Requirement already satisfied: pytz>=2020.1 in c:\\users\\1\\anaconda3\\lib\\site-packages (from pandas) (2022.1)\n",
            "Requirement already satisfied: numpy>=1.18.5 in c:\\users\\1\\anaconda3\\lib\\site-packages (from pandas) (1.21.5)\n",
            "Requirement already satisfied: python-dateutil>=2.8.1 in c:\\users\\1\\anaconda3\\lib\\site-packages (from pandas) (2.8.2)\n",
            "Requirement already satisfied: six>=1.5 in c:\\users\\1\\anaconda3\\lib\\site-packages (from python-dateutil>=2.8.1->pandas) (1.16.0)\n",
            "Note: you may need to restart the kernel to use updated packages.\n"
          ]
        }
      ],
      "source": [
        "pip install pandas"
      ]
    },
    {
      "cell_type": "code",
      "execution_count": null,
      "metadata": {
        "id": "8PdfyWgG6B9F"
      },
      "outputs": [],
      "source": [
        "import pandas as pd\n",
        "reviews = pd.read_csv(r\"C:\\Users\\1\\Desktop\\Программирование\\ТОД\\04_tables\\data\\reviews_sample.csv\")\n",
        "reviews.rename(columns={'Unnamed: 0':'index'}, inplace = True)\n",
        "recipes = pd.read_csv(r\"C:\\Users\\1\\Desktop\\Программирование\\ТОД\\04_tables\\data\\recipes_sample.csv\").drop(['contributor_id','n_steps'], axis = 1)"
      ]
    },
    {
      "cell_type": "code",
      "execution_count": null,
      "metadata": {
        "colab": {
          "base_uri": "https://localhost:8080/",
          "height": 641
        },
        "id": "_UiaH8mT85AK",
        "outputId": "1b8f7297-1256-48fa-e482-bb19f7bda038"
      },
      "outputs": [
        {
          "data": {
            "text/html": [
              "<div>\n",
              "<style scoped>\n",
              "    .dataframe tbody tr th:only-of-type {\n",
              "        vertical-align: middle;\n",
              "    }\n",
              "\n",
              "    .dataframe tbody tr th {\n",
              "        vertical-align: top;\n",
              "    }\n",
              "\n",
              "    .dataframe thead th {\n",
              "        text-align: right;\n",
              "    }\n",
              "</style>\n",
              "<table border=\"1\" class=\"dataframe\">\n",
              "  <thead>\n",
              "    <tr style=\"text-align: right;\">\n",
              "      <th></th>\n",
              "      <th>name</th>\n",
              "      <th>id</th>\n",
              "      <th>minutes</th>\n",
              "      <th>submitted</th>\n",
              "      <th>description</th>\n",
              "      <th>n_ingredients</th>\n",
              "    </tr>\n",
              "  </thead>\n",
              "  <tbody>\n",
              "    <tr>\n",
              "      <th>0</th>\n",
              "      <td>george s at the cove  black bean soup</td>\n",
              "      <td>44123</td>\n",
              "      <td>90</td>\n",
              "      <td>2002-10-25</td>\n",
              "      <td>an original recipe created by chef scott meska...</td>\n",
              "      <td>18.0</td>\n",
              "    </tr>\n",
              "    <tr>\n",
              "      <th>1</th>\n",
              "      <td>healthy for them  yogurt popsicles</td>\n",
              "      <td>67664</td>\n",
              "      <td>10</td>\n",
              "      <td>2003-07-26</td>\n",
              "      <td>my children and their friends ask for my homem...</td>\n",
              "      <td>NaN</td>\n",
              "    </tr>\n",
              "    <tr>\n",
              "      <th>2</th>\n",
              "      <td>i can t believe it s spinach</td>\n",
              "      <td>38798</td>\n",
              "      <td>30</td>\n",
              "      <td>2002-08-29</td>\n",
              "      <td>these were so go, it surprised even me.</td>\n",
              "      <td>8.0</td>\n",
              "    </tr>\n",
              "    <tr>\n",
              "      <th>3</th>\n",
              "      <td>italian  gut busters</td>\n",
              "      <td>35173</td>\n",
              "      <td>45</td>\n",
              "      <td>2002-07-27</td>\n",
              "      <td>my sister-in-law made these for us at a family...</td>\n",
              "      <td>NaN</td>\n",
              "    </tr>\n",
              "    <tr>\n",
              "      <th>4</th>\n",
              "      <td>love is in the air  beef fondue   sauces</td>\n",
              "      <td>84797</td>\n",
              "      <td>25</td>\n",
              "      <td>2004-02-23</td>\n",
              "      <td>i think a fondue is a very romantic casual din...</td>\n",
              "      <td>NaN</td>\n",
              "    </tr>\n",
              "    <tr>\n",
              "      <th>...</th>\n",
              "      <td>...</td>\n",
              "      <td>...</td>\n",
              "      <td>...</td>\n",
              "      <td>...</td>\n",
              "      <td>...</td>\n",
              "      <td>...</td>\n",
              "    </tr>\n",
              "    <tr>\n",
              "      <th>29995</th>\n",
              "      <td>zurie s holey rustic olive and cheddar bread</td>\n",
              "      <td>267661</td>\n",
              "      <td>80</td>\n",
              "      <td>2007-11-25</td>\n",
              "      <td>this is based on a french recipe but i changed...</td>\n",
              "      <td>10.0</td>\n",
              "    </tr>\n",
              "    <tr>\n",
              "      <th>29996</th>\n",
              "      <td>zwetschgenkuchen  bavarian plum cake</td>\n",
              "      <td>386977</td>\n",
              "      <td>240</td>\n",
              "      <td>2009-08-24</td>\n",
              "      <td>this is a traditional fresh plum cake, thought...</td>\n",
              "      <td>11.0</td>\n",
              "    </tr>\n",
              "    <tr>\n",
              "      <th>29997</th>\n",
              "      <td>zwiebelkuchen   southwest german onion cake</td>\n",
              "      <td>103312</td>\n",
              "      <td>75</td>\n",
              "      <td>2004-11-03</td>\n",
              "      <td>this is a traditional late summer early fall s...</td>\n",
              "      <td>NaN</td>\n",
              "    </tr>\n",
              "    <tr>\n",
              "      <th>29998</th>\n",
              "      <td>zydeco soup</td>\n",
              "      <td>486161</td>\n",
              "      <td>60</td>\n",
              "      <td>2012-08-29</td>\n",
              "      <td>this is a delicious soup that i originally fou...</td>\n",
              "      <td>NaN</td>\n",
              "    </tr>\n",
              "    <tr>\n",
              "      <th>29999</th>\n",
              "      <td>cookies by design   cookies on a stick</td>\n",
              "      <td>298512</td>\n",
              "      <td>29</td>\n",
              "      <td>2008-04-15</td>\n",
              "      <td>i've heard of the 'cookies by design' company,...</td>\n",
              "      <td>10.0</td>\n",
              "    </tr>\n",
              "  </tbody>\n",
              "</table>\n",
              "<p>30000 rows × 6 columns</p>\n",
              "</div>"
            ],
            "text/plain": [
              "                                               name      id  minutes  \\\n",
              "0             george s at the cove  black bean soup   44123       90   \n",
              "1                healthy for them  yogurt popsicles   67664       10   \n",
              "2                      i can t believe it s spinach   38798       30   \n",
              "3                              italian  gut busters   35173       45   \n",
              "4          love is in the air  beef fondue   sauces   84797       25   \n",
              "...                                             ...     ...      ...   \n",
              "29995  zurie s holey rustic olive and cheddar bread  267661       80   \n",
              "29996          zwetschgenkuchen  bavarian plum cake  386977      240   \n",
              "29997   zwiebelkuchen   southwest german onion cake  103312       75   \n",
              "29998                                   zydeco soup  486161       60   \n",
              "29999        cookies by design   cookies on a stick  298512       29   \n",
              "\n",
              "        submitted                                        description  \\\n",
              "0      2002-10-25  an original recipe created by chef scott meska...   \n",
              "1      2003-07-26  my children and their friends ask for my homem...   \n",
              "2      2002-08-29            these were so go, it surprised even me.   \n",
              "3      2002-07-27  my sister-in-law made these for us at a family...   \n",
              "4      2004-02-23  i think a fondue is a very romantic casual din...   \n",
              "...           ...                                                ...   \n",
              "29995  2007-11-25  this is based on a french recipe but i changed...   \n",
              "29996  2009-08-24  this is a traditional fresh plum cake, thought...   \n",
              "29997  2004-11-03  this is a traditional late summer early fall s...   \n",
              "29998  2012-08-29  this is a delicious soup that i originally fou...   \n",
              "29999  2008-04-15  i've heard of the 'cookies by design' company,...   \n",
              "\n",
              "       n_ingredients  \n",
              "0               18.0  \n",
              "1                NaN  \n",
              "2                8.0  \n",
              "3                NaN  \n",
              "4                NaN  \n",
              "...              ...  \n",
              "29995           10.0  \n",
              "29996           11.0  \n",
              "29997            NaN  \n",
              "29998            NaN  \n",
              "29999           10.0  \n",
              "\n",
              "[30000 rows x 6 columns]"
            ]
          },
          "execution_count": 74,
          "metadata": {},
          "output_type": "execute_result"
        }
      ],
      "source": [
        "recipes"
      ]
    },
    {
      "cell_type": "markdown",
      "metadata": {
        "id": "5yKAXG2xPNvL"
      },
      "source": [
        "2. Случайным образом выберите 5% строк из каждой таблицы и сохраните две таблицы на разные листы в один файл `recipes.xlsx`. Дайте листам названия \"Рецепты\" и \"Отзывы\", соответствующие содержанию таблиц. "
      ]
    },
    {
      "cell_type": "code",
      "execution_count": null,
      "metadata": {
        "id": "eubXKFdt_Bji",
        "scrolled": true
      },
      "outputs": [],
      "source": [
        "with pd.ExcelWriter(r\"C:\\Users\\1\\Desktop\\Программирование\\ТОД\\04_tables\\data\\recipes.xlsx\") as writer:\n",
        "    reviews.sample(frac=0.05).to_excel(writer, sheet_name = 'Рецепты', index = False)\n",
        "    recipes.sample(frac=0.05).to_excel(writer, sheet_name = 'Отзывы', index = False)\n",
        "    "
      ]
    },
    {
      "cell_type": "markdown",
      "metadata": {
        "id": "K4aGnhR7PNvL"
      },
      "source": [
        "3. Используя `xlwings`, добавьте на лист `Рецепты` столбец `seconds_assign`, показывающий время выполнения рецепта в секундах. Выполните задание при помощи присваивания массива значений диапазону ячеек."
      ]
    },
    {
      "cell_type": "code",
      "execution_count": null,
      "metadata": {
        "id": "iaZlXxNKm1UJ"
      },
      "outputs": [],
      "source": [
        "wb = xw.Book(r\"C:\\Users\\1\\Desktop\\Программирование\\ТОД\\04_tables\\data\\recipes.xlsx\")\n",
        "recipes = wb.sheets['Рецепты']\n",
        "reviews = wb.sheets['Отзывы']\n",
        "reviews_pd = reviews.range('B:C').expand('down').options(pd.DataFrame, header=1, index=False).value\n",
        "recipes_pd = recipes.range('C:C').expand('down').options(pd.DataFrame, header=1, index=False).value\n",
        "new_colum = recipes_pd.merge(reviews_pd, how=\"inner\", left_on='recipe_id', right_on='id').drop('id', axis = 1)\n",
        "recipes.range('G2:G2').options(transpose=True).value = new_colum['minutes'].values\n",
        "recipes.range('H2:H2').options(transpose=True).value = new_colum['minutes'].values*60\n",
        "recipes.range('G1').value = 'minutes'\n",
        "recipes.range('H1').value = 'seconds_formula'\n"
      ]
    },
    {
      "cell_type": "markdown",
      "metadata": {
        "id": "wWXBKol5PNvM"
      },
      "source": [
        "4. Используя `xlwings`, добавьте на лист `Рецепты` столбец `seconds_formula`, показывающий время выполнения рецепта в секундах. Выполните задание при помощи формул Excel."
      ]
    },
    {
      "cell_type": "code",
      "execution_count": null,
      "metadata": {
        "id": "EDXj-q4um1UK"
      },
      "outputs": [],
      "source": [
        "import numpy as np\n",
        "import pandas as pd"
      ]
    },
    {
      "cell_type": "code",
      "execution_count": null,
      "metadata": {
        "id": "pJfqVb4um1UK"
      },
      "outputs": [],
      "source": [
        "wb = xw.Book(r\"C:\\Users\\1\\Desktop\\Программирование\\ТОД\\04_tables\\data\\recipes.xlsx\")\n",
        "recipes = wb.sheets['Рецепты']\n",
        "reviews = wb.sheets['Отзывы']\n",
        "reviews_pd = reviews.range('B:C').expand('down').options(pd.DataFrame, header=1, index=False).value\n",
        "recipes_pd = recipes.range('C:C').expand('down').options(pd.DataFrame, header=1, index=False).value\n",
        "new_colum = recipes_pd.merge(reviews_pd, how=\"inner\", left_on='recipe_id', right_on='id').drop('id', axis = 1)\n",
        "recipes.range('G2:G2').options(transpose=True).value = new_colum['minutes'].values\n",
        "recipes.range('G1').value = 'minutes'\n",
        "recipes.range('H1').value = 'seconds_formula'\n",
        "recipes.range('H2:H6336').formula = [['=G2*60']]"
      ]
    },
    {
      "cell_type": "markdown",
      "metadata": {
        "id": "oSuLqJEkPNvM"
      },
      "source": [
        "5. Сделайте названия всех добавленных столбцов полужирными и выровняйте по центру ячейки."
      ]
    },
    {
      "cell_type": "code",
      "execution_count": null,
      "metadata": {
        "id": "xzFQxmkym1UK"
      },
      "outputs": [],
      "source": [
        "recipes.range('G1').api.Font.Bold = True\n",
        "recipes.range('H1').api.Font.Bold = True\n",
        "wb.save(r\"C:\\Users\\1\\Desktop\\Программирование\\ТОД\\04_tables\\data\\recipes2.xlsx\")\n",
        "wb.close()"
      ]
    },
    {
      "cell_type": "code",
      "execution_count": null,
      "metadata": {
        "scrolled": true,
        "id": "ckzzDICym1UK",
        "outputId": "17acb2f5-2582-42c4-ad5d-cce4490024ce"
      },
      "outputs": [
        {
          "ename": "com_error",
          "evalue": "(-2146827864, 'OLE error 0x800a01a8', None, None)",
          "output_type": "error",
          "traceback": [
            "\u001b[1;31m---------------------------------------------------------------------------\u001b[0m",
            "\u001b[1;31mcom_error\u001b[0m                                 Traceback (most recent call last)",
            "\u001b[1;32m~\\AppData\\Local\\Temp\\ipykernel_26920\\2495738351.py\u001b[0m in \u001b[0;36m<module>\u001b[1;34m\u001b[0m\n\u001b[1;32m----> 1\u001b[1;33m \u001b[0mprint\u001b[0m\u001b[1;33m(\u001b[0m\u001b[0mrecipes\u001b[0m\u001b[1;33m.\u001b[0m\u001b[0mrange\u001b[0m\u001b[1;33m(\u001b[0m\u001b[1;34m'G1'\u001b[0m\u001b[1;33m)\u001b[0m\u001b[1;33m.\u001b[0m\u001b[0mposition\u001b[0m\u001b[1;33m)\u001b[0m\u001b[1;33m\u001b[0m\u001b[1;33m\u001b[0m\u001b[0m\n\u001b[0m\u001b[0;32m      2\u001b[0m \u001b[1;33m\u001b[0m\u001b[0m\n",
            "\u001b[1;32m~\\anaconda3\\lib\\site-packages\\xlwings\\main.py\u001b[0m in \u001b[0;36mrange\u001b[1;34m(self, cell1, cell2)\u001b[0m\n\u001b[0;32m   1362\u001b[0m                 \u001b[1;32mraise\u001b[0m \u001b[0mValueError\u001b[0m\u001b[1;33m(\u001b[0m\u001b[1;34m\"Second range is not on this sheet\"\u001b[0m\u001b[1;33m)\u001b[0m\u001b[1;33m\u001b[0m\u001b[1;33m\u001b[0m\u001b[0m\n\u001b[0;32m   1363\u001b[0m             \u001b[0mcell2\u001b[0m \u001b[1;33m=\u001b[0m \u001b[0mcell2\u001b[0m\u001b[1;33m.\u001b[0m\u001b[0mimpl\u001b[0m\u001b[1;33m\u001b[0m\u001b[1;33m\u001b[0m\u001b[0m\n\u001b[1;32m-> 1364\u001b[1;33m         \u001b[1;32mreturn\u001b[0m \u001b[0mRange\u001b[0m\u001b[1;33m(\u001b[0m\u001b[0mimpl\u001b[0m\u001b[1;33m=\u001b[0m\u001b[0mself\u001b[0m\u001b[1;33m.\u001b[0m\u001b[0mimpl\u001b[0m\u001b[1;33m.\u001b[0m\u001b[0mrange\u001b[0m\u001b[1;33m(\u001b[0m\u001b[0mcell1\u001b[0m\u001b[1;33m,\u001b[0m \u001b[0mcell2\u001b[0m\u001b[1;33m)\u001b[0m\u001b[1;33m)\u001b[0m\u001b[1;33m\u001b[0m\u001b[1;33m\u001b[0m\u001b[0m\n\u001b[0m\u001b[0;32m   1365\u001b[0m \u001b[1;33m\u001b[0m\u001b[0m\n\u001b[0;32m   1366\u001b[0m     \u001b[1;33m@\u001b[0m\u001b[0mproperty\u001b[0m\u001b[1;33m\u001b[0m\u001b[1;33m\u001b[0m\u001b[0m\n",
            "\u001b[1;32m~\\anaconda3\\lib\\site-packages\\xlwings\\_xlwindows.py\u001b[0m in \u001b[0;36mrange\u001b[1;34m(self, arg1, arg2)\u001b[0m\n\u001b[0;32m    971\u001b[0m             \u001b[0marg2\u001b[0m \u001b[1;33m=\u001b[0m \u001b[1;32mNone\u001b[0m\u001b[1;33m\u001b[0m\u001b[1;33m\u001b[0m\u001b[0m\n\u001b[0;32m    972\u001b[0m         \u001b[1;32melse\u001b[0m\u001b[1;33m:\u001b[0m\u001b[1;33m\u001b[0m\u001b[1;33m\u001b[0m\u001b[0m\n\u001b[1;32m--> 973\u001b[1;33m             \u001b[0mxl1\u001b[0m \u001b[1;33m=\u001b[0m \u001b[0mself\u001b[0m\u001b[1;33m.\u001b[0m\u001b[0mxl\u001b[0m\u001b[1;33m.\u001b[0m\u001b[0mRange\u001b[0m\u001b[1;33m(\u001b[0m\u001b[0marg1\u001b[0m\u001b[1;33m)\u001b[0m\u001b[1;33m\u001b[0m\u001b[1;33m\u001b[0m\u001b[0m\n\u001b[0m\u001b[0;32m    974\u001b[0m \u001b[1;33m\u001b[0m\u001b[0m\n\u001b[0;32m    975\u001b[0m         \u001b[1;32mif\u001b[0m \u001b[0marg2\u001b[0m \u001b[1;32mis\u001b[0m \u001b[1;32mNone\u001b[0m\u001b[1;33m:\u001b[0m\u001b[1;33m\u001b[0m\u001b[1;33m\u001b[0m\u001b[0m\n",
            "\u001b[1;32m~\\anaconda3\\lib\\site-packages\\xlwings\\_xlwindows.py\u001b[0m in \u001b[0;36m__call__\u001b[1;34m(self, *args, **kwargs)\u001b[0m\n\u001b[0;32m    103\u001b[0m         \u001b[1;32mwhile\u001b[0m \u001b[1;32mTrue\u001b[0m\u001b[1;33m:\u001b[0m\u001b[1;33m\u001b[0m\u001b[1;33m\u001b[0m\u001b[0m\n\u001b[0;32m    104\u001b[0m             \u001b[1;32mtry\u001b[0m\u001b[1;33m:\u001b[0m\u001b[1;33m\u001b[0m\u001b[1;33m\u001b[0m\u001b[0m\n\u001b[1;32m--> 105\u001b[1;33m                 \u001b[0mv\u001b[0m \u001b[1;33m=\u001b[0m \u001b[0mself\u001b[0m\u001b[1;33m.\u001b[0m\u001b[0m__method\u001b[0m\u001b[1;33m(\u001b[0m\u001b[1;33m*\u001b[0m\u001b[0margs\u001b[0m\u001b[1;33m,\u001b[0m \u001b[1;33m**\u001b[0m\u001b[0mkwargs\u001b[0m\u001b[1;33m)\u001b[0m\u001b[1;33m\u001b[0m\u001b[1;33m\u001b[0m\u001b[0m\n\u001b[0m\u001b[0;32m    106\u001b[0m                 \u001b[1;32mif\u001b[0m \u001b[0misinstance\u001b[0m\u001b[1;33m(\u001b[0m\u001b[0mv\u001b[0m\u001b[1;33m,\u001b[0m \u001b[1;33m(\u001b[0m\u001b[0mCDispatch\u001b[0m\u001b[1;33m,\u001b[0m \u001b[0mCoClassBaseClass\u001b[0m\u001b[1;33m,\u001b[0m \u001b[0mDispatchBaseClass\u001b[0m\u001b[1;33m)\u001b[0m\u001b[1;33m)\u001b[0m\u001b[1;33m:\u001b[0m\u001b[1;33m\u001b[0m\u001b[1;33m\u001b[0m\u001b[0m\n\u001b[0;32m    107\u001b[0m                     \u001b[1;32mreturn\u001b[0m \u001b[0mCOMRetryObjectWrapper\u001b[0m\u001b[1;33m(\u001b[0m\u001b[0mv\u001b[0m\u001b[1;33m)\u001b[0m\u001b[1;33m\u001b[0m\u001b[1;33m\u001b[0m\u001b[0m\n",
            "\u001b[1;32m~\\AppData\\Local\\Temp\\gen_py\\3.9\\00020813-0000-0000-C000-000000000046x0x1x9.py\u001b[0m in \u001b[0;36mRange\u001b[1;34m(self, Cell1, Cell2)\u001b[0m\n\u001b[0;32m  47384\u001b[0m         \u001b[1;31m# The method Range is actually a property, but must be used as a method to correctly pass the arguments\u001b[0m\u001b[1;33m\u001b[0m\u001b[1;33m\u001b[0m\u001b[0m\n\u001b[0;32m  47385\u001b[0m         \u001b[1;32mdef\u001b[0m \u001b[0mRange\u001b[0m\u001b[1;33m(\u001b[0m\u001b[0mself\u001b[0m\u001b[1;33m,\u001b[0m \u001b[0mCell1\u001b[0m\u001b[1;33m=\u001b[0m\u001b[0mdefaultNamedNotOptArg\u001b[0m\u001b[1;33m,\u001b[0m \u001b[0mCell2\u001b[0m\u001b[1;33m=\u001b[0m\u001b[0mdefaultNamedOptArg\u001b[0m\u001b[1;33m)\u001b[0m\u001b[1;33m:\u001b[0m\u001b[1;33m\u001b[0m\u001b[1;33m\u001b[0m\u001b[0m\n\u001b[1;32m> 47386\u001b[1;33m \t\tret = self._oleobj_.InvokeTypes(197, LCID, 2, (9, 0), ((12, 1), (12, 17)),Cell1\n\u001b[0m\u001b[0;32m  47387\u001b[0m \t\t\t, Cell2)\n\u001b[0;32m  47388\u001b[0m                 \u001b[1;32mif\u001b[0m \u001b[0mret\u001b[0m \u001b[1;32mis\u001b[0m \u001b[1;32mnot\u001b[0m \u001b[1;32mNone\u001b[0m\u001b[1;33m:\u001b[0m\u001b[1;33m\u001b[0m\u001b[1;33m\u001b[0m\u001b[0m\n",
            "\u001b[1;31mcom_error\u001b[0m: (-2146827864, 'OLE error 0x800a01a8', None, None)"
          ]
        }
      ],
      "source": [
        "print(recipes.range('G1').position)\n",
        "\n"
      ]
    },
    {
      "cell_type": "code",
      "execution_count": null,
      "metadata": {
        "id": "MS-BgH93m1UK"
      },
      "outputs": [],
      "source": [
        "xw.__version__"
      ]
    },
    {
      "cell_type": "markdown",
      "metadata": {
        "id": "JyYAKn3mPNvM"
      },
      "source": [
        "6. Раскрасьте ячейки столбца `minutes` в соответствии со следующим правилом: если рецепт выполняется быстрее 5 минут, то цвет - зеленый; от 5 до 10 минут - жёлтый; и больше 10 - красный."
      ]
    },
    {
      "cell_type": "code",
      "execution_count": null,
      "metadata": {
        "id": "4OP8z8vSm1UL"
      },
      "outputs": [],
      "source": []
    },
    {
      "cell_type": "markdown",
      "metadata": {
        "id": "WZqB03LMPNvM"
      },
      "source": [
        "7. Добавьте на лист `Рецепты`  столбец `n_reviews`, содержащий кол-во отзывов для этого рецепта. Выполните задание при помощи формул Excel."
      ]
    },
    {
      "cell_type": "code",
      "execution_count": null,
      "metadata": {
        "id": "yEDmE7Z-m1UL"
      },
      "outputs": [],
      "source": [
        "recipes.range('I1').value = 'n_reviews'\n"
      ]
    },
    {
      "cell_type": "markdown",
      "metadata": {
        "id": "V0lhpyS3PNvN"
      },
      "source": [
        "## Лабораторная работа 7.2"
      ]
    },
    {
      "cell_type": "markdown",
      "metadata": {
        "id": "i8z4_IprPNvN"
      },
      "source": [
        "8. Напишите функцию `validate()`, которая проверяет соответствие всех строк из листа `Отзывы` следующим правилам:\n",
        "    * Рейтинг - это число от 0 до 5 включительно\n",
        "    * Соответствующий рецепт имеется на листе `Рецепты`\n",
        "    \n",
        "В случае несоответствия этим правилам, выделите строку красным цветом"
      ]
    },
    {
      "cell_type": "markdown",
      "metadata": {
        "id": "qNNixOXqPNvN"
      },
      "source": [
        "9. В файле `recipes_model.csv` находится модель данных предметной области \"рецепты\". При помощи пакета `csv` считайте эти данные. При помощи пакета `xlwings` запишите данные на лист `Модель` книги `recipes_model.xlsx`, начиная с ячейки `A2`, не используя циклы. Сделайте скриншот текущего состояния листа и прикрепите в ячейку ноутбука. "
      ]
    },
    {
      "cell_type": "markdown",
      "metadata": {
        "id": "oAwo1mf1PNvN"
      },
      "source": [
        "10. При помощи пакета `xlwings` добавьте в столбец J формулу для описания столбца на языке SQL. Формула должна реализовывать следующую логику:\n",
        "\n",
        "    1\\. в начале строки идут значения из столбцов В и C (значение столбца С приведено к верхнему регистру), разделенные пробелом\n",
        "    \n",
        "    2\\. далее идут слова на основе столбца \"Ключ\"\n",
        "        2.1 если в столбце \"Ключ\" указано значение \"PK\", то дальше через пробел идет ключевое слово \"PRIMARY KEY\"\n",
        "        2.2 если в столбце \"Ключ\" указано значение \"FK\", то дальше через пробел идет ключевое слово \"REFERENCES\", затем значения столбцов H и I в формате \"название_таблицы(название_столбца)\"\n",
        "        \n",
        "    3\\. если в столбце \"Обязательно к заполнению\" указано значение \"Y\" и в столбце \"Ключ\" указано не \"PK\", то дальше через пробел идет ключевое слово \"NOT NULL\".\n",
        "\n",
        "Заполните этой формулой необходимое количество строк, используя \"протягивание\". Количество строк для протягивания определите на основе данных.\n",
        "\n",
        "Сделайте скриншот текущего состояния листа и прикрепите в ячейку ноутбука."
      ]
    },
    {
      "cell_type": "markdown",
      "metadata": {
        "id": "AlYI95T-PNvO"
      },
      "source": [
        "11. При помощи пакета `xlwings` измените стилизацию листа `Модель`.\n",
        "* для заголовков добавьте заливку цвета `00ccff`\n",
        "* примените автоподбор ширины столбца;\n",
        "* сделайте шрифт заголовков полужирным;\n",
        "* добавьте таблице автофильтр.\n",
        "\n",
        "Сделайте скриншот текущего состояния листа и прикрепите в ячейку ноутбука."
      ]
    },
    {
      "cell_type": "markdown",
      "metadata": {
        "id": "6iY0rNRCPNvO"
      },
      "source": [
        "12. Посчитайте количество атрибутов для каждой из сущностей. Создайте лист `Статистика` и запишите в него результат группировки, начиная с ячейки \"А1\". Визуализируйте полученный результат при помощи столбчатой диаграммы. Сохраните полученную визуализацию на лист `Статистика`, начиная с ячейки \"E2\".  Сделайте скриншот листа `Статистика` и прикрепите в ячейку ноутбука.\n",
        "\n",
        "* Вы можете воспользоваться методами для визуализации, которые поставляются вместе с объектами `pandas` (см. https://pandas.pydata.org/docs/reference/api/pandas.DataFrame.plot) "
      ]
    }
  ],
  "metadata": {
    "colab": {
      "provenance": []
    },
    "kernelspec": {
      "display_name": "Python 3 (ipykernel)",
      "language": "python",
      "name": "python3"
    },
    "language_info": {
      "codemirror_mode": {
        "name": "ipython",
        "version": 3
      },
      "file_extension": ".py",
      "mimetype": "text/x-python",
      "name": "python",
      "nbconvert_exporter": "python",
      "pygments_lexer": "ipython3",
      "version": "3.9.13"
    }
  },
  "nbformat": 4,
  "nbformat_minor": 0
}