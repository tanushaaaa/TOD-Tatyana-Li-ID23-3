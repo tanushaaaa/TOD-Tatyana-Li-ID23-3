{
 "cells": [
  {
   "cell_type": "markdown",
   "id": "351d3c7e",
   "metadata": {},
   "source": [
    "1. Сгенерировать двухмерный массив arr размерности (4, 7), состоящий из случайных действительных чисел, равномерно распределенных в диапазоне от 0 до 20. Нормализовать значения массива с помощью преобразования вида ах + b так, что после нормализации максимальный элемент массива будет равен 1.0, минимальный 0.0 "
   ]
  },
  {
   "cell_type": "code",
   "execution_count": null,
   "id": "0f9df577",
   "metadata": {},
   "outputs": [],
   "source": [
    "import numpy as np\n",
    "\n",
    "arr = np.random.uniform(0, 20, (4, 7))\n",
    "\n",
    "min_val = np.min(arr)\n",
    "max_val = np.max(arr)\n",
    "\n",
    "a = 1 / (max_val - min_val)\n",
    "b = -a * min_val\n",
    "\n",
    "arr_normalized = a * arr + b\n",
    "\n",
    "print(\"Исходный массив:\")\n",
    "print(arr)\n",
    "print(\"\\nНормализованный массив:\")\n",
    "print(arr_normalized)\n",
    "print(\"\\nМинимальное значение после нормализации:\", np.min(arr_normalized))\n",
    "print(\"Максимальное значение после нормализации:\", np.max(arr_normalized))"
   ]
  },
  {
   "cell_type": "markdown",
   "id": "fce8ebe2",
   "metadata": {},
   "source": [
    "2. Создать матрицу 8 на 10 из случайных целых (используя модуль numpy. random ) чисел из диапозона от 0 до 10 и найти в ней строку (ее индекс и вывести саму строку), в которой сумма значений минимальна."
   ]
  },
  {
   "cell_type": "code",
   "execution_count": null,
   "id": "d84d248b",
   "metadata": {},
   "outputs": [],
   "source": [
    "import numpy as np\n",
    "\n",
    "matrix = np.random.randint(0, 11, size=(8, 10))\n",
    "\n",
    "row_sum = np.sum(matrix, axis=1)\n",
    "min_sum_row_index = np.argmin(row_sum)\n",
    "min_sum_row = matrix[min_sum_row_index]\n",
    "\n",
    "print(\"Индекс строки с минимальной суммой значений:\", min_sum_row_index)\n",
    "print(\"Строка с минимальной суммой значений:\", min_sum_row)"
   ]
  },
  {
   "cell_type": "markdown",
   "id": "1c703ecd",
   "metadata": {},
   "source": [
    "3. Найти евклидово расстояние между двумя одномерными векторами одинаковой размерности."
   ]
  },
  {
   "cell_type": "code",
   "execution_count": null,
   "id": "b35eca15",
   "metadata": {},
   "outputs": [],
   "source": [
    "import numpy as np\n",
    "\n",
    "vector1 = np.array([1, 2, 3])\n",
    "vector2 = np.array([4, 5, 6])\n",
    "\n",
    "distance = np.sqrt(np.sum((vector1 - vector2)**2))\n",
    "\n",
    "print(\"Евклидово расстояние между векторами:\", distance)"
   ]
  },
  {
   "cell_type": "markdown",
   "id": "4d292f77",
   "metadata": {},
   "source": [
    "4. Решить матричное уравнение АХВ=-С - найти матрицу Х. Где А = [-1, 2, 4], [-3, 1, 2], [-3, 0, 1]], В=[[3, -1], [2, 1]], С=[[7, 21], [11, 8], [8, 4]]"
   ]
  },
  {
   "cell_type": "code",
   "execution_count": null,
   "id": "abead7cf",
   "metadata": {},
   "outputs": [],
   "source": [
    "import numpy as np\n",
    "\n",
    "A = np.array([[-1, 2, 4], [-3, 1, 2], [-3, 0, 1]])\n",
    "B = np.array([[3, -1], [2, 1]])\n",
    "C = np.array([[7, 21], [11, 8], [8, 4]])\n",
    "\n",
    "A_inv = np.linalg.inv(A)\n",
    "B_inv = np.linalg.inv(B)\n",
    "\n",
    "X = np.dot(np.dot(A_inv, -C), B_inv)\n",
    "\n",
    "print(\"Матрица X:\")\n",
    "print(X)"
   ]
  },
  {
   "cell_type": "markdown",
   "id": "3cfbe0b6",
   "metadata": {},
   "source": [
    "Лабораторная 1 "
   ]
  },
  {
   "cell_type": "markdown",
   "id": "ef493300",
   "metadata": {},
   "source": [
    "1. Файл minutes_n_ingredients.csv содержит информацию об идентификаторе рецепта, времени его выполнения в минутах и количестве необходимых ингредиентов. Считайте данные из этого файла в виде массива numpy типа int32, используя np.loadtxt. Выведите на экран первые 5 строк массива."
   ]
  },
  {
   "cell_type": "code",
   "execution_count": null,
   "id": "79c49775",
   "metadata": {},
   "outputs": [],
   "source": [
    "import numpy as np"
   ]
  },
  {
   "cell_type": "code",
   "execution_count": null,
   "id": "6a7dabb9",
   "metadata": {},
   "outputs": [],
   "source": [
    "arr2 = np.loadtxt('minutes_n_ingredients.csv', delimiter=',', dtype=np.int32, skiprows=1)\n",
    "print(arr2[:5])\n",
    "# id, minutes, n_ingredients\n",
    "arr = np.copy(arr2)"
   ]
  },
  {
   "cell_type": "markdown",
   "id": "8ea92858",
   "metadata": {},
   "source": [
    "2. Вычислите среднее значение, минимум, максимум и медиану по каждому из столбцов, кроме первого."
   ]
  },
  {
   "cell_type": "code",
   "execution_count": null,
   "id": "4c46bc64",
   "metadata": {},
   "outputs": [],
   "source": [
    "print('индексы столбцов и строк начинаются с 0')\n",
    "\n",
    "print(f'\\n среднее  \\nстолбец 1 : {np.mean(arr2[:,1], axis=0)}\\nстолбец 2 : {np.mean(arr2[:,2], axis=0)}')\n",
    "print(f'\\n минимум  \\nстолбец 1 : {np.min(arr2[:,1], axis=0)}\\nстолбец 2 : {np.min(arr2[:,2], axis=0)}')\n",
    "print(f'\\n максимум \\nстолбец 1 : {np.max(arr2[:,1], axis=0)}\\nстолбец 2 : {np.max(arr2[:,2], axis=0)}')\n",
    "print(f'\\n медиана  \\nстолбец 1 : {np.median(arr2[:,1], axis=0)}\\nстолбец 2 : {np.median(arr2[:,2], axis=0)}')  # половина чисел больше, половина меньше"
   ]
  },
  {
   "cell_type": "markdown",
   "id": "65a3c8ed",
   "metadata": {},
   "source": [
    "3. Ограничьте сверху значения продолжительности выполнения рецепта значением квантиля q0.75"
   ]
  },
  {
   "cell_type": "code",
   "execution_count": null,
   "id": "9412f92f",
   "metadata": {},
   "outputs": [],
   "source": [
    "# находим значение q0.75\n",
    "quantile_75 = np.quantile(arr2[:,1], 0.75)\n",
    "print(f'значение квантиля q0.75 : {quantile_75}')\n",
    "\n",
    "# все значения больше значения квантиля = 65 заменим на 65\n",
    "# numpy.where(condition, [x, y, ]/) - когда conditon True - x, иначе y\n",
    "arr2[:, 1] = np.where(arr2[:, 1] > quantile_75, quantile_75, arr2[:, 1])  \n",
    "print(arr2)"
   ]
  },
  {
   "cell_type": "markdown",
   "id": "9086a611",
   "metadata": {},
   "source": [
    "4. Посчитайте, для скольких рецептов указана продолжительность, равная нулю. Замените для таких строк значение в данном столбце на 1. "
   ]
  },
  {
   "cell_type": "code",
   "execution_count": null,
   "id": "7a2098f7",
   "metadata": {},
   "outputs": [],
   "source": [
    "# id, minutes, n_ingredients\n",
    "\n",
    "# получим список номеров строк, где время = 0\n",
    "# where возвращает (array([номера строк], dtype= ...),)  \n",
    "# из полученного берем первый элемент, массив номеров строк\n",
    "zeros = np.where(arr2[:, 1] == 0)[0] \n",
    "print(f'индексы строк с 0: {zeros}')\n",
    "\n",
    "# подсчитаем количество рецептов с продолжительностью 0\n",
    "print(f'рецептов с временем 0: {len(zeros)}\\n')\n",
    "\n",
    "# заменим значения продолжительности на 1, где они равны нулю\n",
    "arr2[zeros, 1] = 1\n",
    "\n",
    "print(arr2)"
   ]
  },
  {
   "cell_type": "markdown",
   "id": "66ec3051",
   "metadata": {},
   "source": [
    "5. Посчитайте, сколько уникальных рецептов находится в датасете."
   ]
  },
  {
   "cell_type": "code",
   "execution_count": null,
   "id": "58319ddd",
   "metadata": {},
   "outputs": [],
   "source": [
    "arr12 = np.array([f\"{x[1]}_{x[2]}\" for x in arr2])\n",
    "print(arr12)\n",
    "\n",
    "# находим уникальные рецепты\n",
    "uniq_recipe = np.unique(arr12)\n",
    "\n",
    "print(len(uniq_recipe))\n",
    "print(len(arr2))"
   ]
  },
  {
   "cell_type": "markdown",
   "id": "e84b7647",
   "metadata": {},
   "source": [
    "6. Сколько и каких различных значений кол-ва ингредиентов присутвует в рецептах из датасета?"
   ]
  },
  {
   "cell_type": "code",
   "execution_count": null,
   "id": "bce647b9",
   "metadata": {},
   "outputs": [],
   "source": [
    "uniq_n_ingr = np.unique(arr2[:,2])  # список уникальных элем в 2 столбце\n",
    "print(uniq_n_ingr)\n",
    "print(len(uniq_n_ingr), end='\\n\\n')\n",
    "\n",
    "# количество вхождений каждого времени\n",
    "print(np.unique(arr2[:,2], return_counts=True))"
   ]
  },
  {
   "cell_type": "markdown",
   "id": "02c039dc",
   "metadata": {},
   "source": [
    "7. Создайте версию массива, содержащую информацию только о рецептах, состоящих не более чем из 5 ингредиентов."
   ]
  },
  {
   "cell_type": "code",
   "execution_count": null,
   "id": "fe6bbe26",
   "metadata": {},
   "outputs": [],
   "source": [
    "compare_mask = arr2[:, 2] <= 5\n",
    "\n",
    "arr2_copy = np.copy(arr2)\n",
    "filtered_arr2 = arr2_copy[compare_mask]\n",
    "\n",
    "print(compare_mask, end='\\n\\n')\n",
    "print(filtered_arr2, end='\\n\\n проверим, что исходный массив не изменился\\n')\n",
    "print(arr2)"
   ]
  },
  {
   "cell_type": "markdown",
   "id": "ab4fae8b",
   "metadata": {},
   "source": [
    "8. Для каждого рецепта посчитайте, сколько в среднем ингредиентов приходится на одну минуту рецепта. Найдите максимальное значение этой величины для всего датасета"
   ]
  },
  {
   "cell_type": "code",
   "execution_count": null,
   "id": "dc9b957a",
   "metadata": {},
   "outputs": [],
   "source": [
    "mean_arr = arr2[:,2] / arr2[:,1]\n",
    "print(mean_arr, end='\\n\\n')\n",
    "\n",
    "print(np.max(mean_arr), end='\\n\\n')\n",
    "\n",
    "id_mean_arr = np.column_stack((arr2[:,0], mean_arr))\n",
    "print('  id,      mean time for 1 sec')\n",
    "print(id_mean_arr)"
   ]
  },
  {
   "cell_type": "markdown",
   "id": "f6868b25",
   "metadata": {},
   "source": [
    "9. Вычислите среднее количество ингредиентов для топ-100 рецептов с наибольшей продолжительностью"
   ]
  },
  {
   "cell_type": "code",
   "execution_count": null,
   "id": "494a6580",
   "metadata": {},
   "outputs": [],
   "source": [
    "# получаем индексы для сортировки по первому столбцу \n",
    "sorted_ind = np.argsort(arr2[:, 1])\n",
    "print(sorted_ind, end='\\n\\n')\n",
    "\n",
    "# применяем индексы для сортировки массива по первому столбцу\n",
    "sorted_arr2 = arr2[sorted_ind]\n",
    "\n",
    "# перевернем массив, от большего к меньшему\n",
    "sorted_arr2 = sorted_arr2[::-1]\n",
    "print(sorted_arr2)\n",
    "print(f'\\nсреднее кол-во ингредиентов: {np.mean(sorted_arr2[:100,2])}')  # среднее для второго столбца для первых 100 элем"
   ]
  },
  {
   "cell_type": "markdown",
   "id": "4d0099f8",
   "metadata": {},
   "source": [
    "10. Выберите случайным образом и выведите информацию о 10 различных рецептах"
   ]
  },
  {
   "cell_type": "code",
   "execution_count": null,
   "id": "68a15dca",
   "metadata": {},
   "outputs": [],
   "source": [
    "# id это какие-то рандомные числа,совсем необязательно все от 0 до 100000\n",
    "# перемешиваем данные\n",
    "np.random.shuffle(arr2)\n",
    "\n",
    "# выбираем первые 10 рецептов\n",
    "print(arr2[:10])"
   ]
  },
  {
   "cell_type": "markdown",
   "id": "07ae194e",
   "metadata": {},
   "source": [
    "11. Выведите процент рецептов, кол-во ингредиентов в которых меньше среднего."
   ]
  },
  {
   "cell_type": "code",
   "execution_count": null,
   "id": "e9168b64",
   "metadata": {},
   "outputs": [],
   "source": [
    "# столбец с количеством ингредиентов\n",
    "n_ingredients = arr2[:, 2]\n",
    "\n",
    "# среднее количество ингредиентов\n",
    "mean_n_ingredients = np.mean(n_ingredients)\n",
    "\n",
    "# количество рецептов, у которых количество ингредиентов меньше среднего\n",
    "count_below_mean = np.sum(n_ingredients < mean_n_ingredients)\n",
    "#print(n_ingredients < mean_n_ingredients)  # -> [ True False  True ...  True  True  True]\n",
    "#print(sum([True, True, True, False]) # -> 3\n",
    "\n",
    "# процент\n",
    "print(f'{(count_below_mean / len(arr2)) * 100} %')"
   ]
  },
  {
   "cell_type": "markdown",
   "id": "b2f9a22c",
   "metadata": {},
   "source": [
    "12. Назовем \"простым\" такой рецепт, длительность выполнения которого не больше 20 минут и кол-во ингредиентов в котором не больше 5. Создайте версию датасета с дополнительным столбцом, значениями которого являются 1, если рецепт простой, и 0 в противном случае."
   ]
  },
  {
   "cell_type": "code",
   "execution_count": null,
   "id": "0290009f",
   "metadata": {},
   "outputs": [],
   "source": [
    "# доп столбец для  1 или 0\n",
    "simple = ((arr2[:, 1] <= 20) & (arr2[:, 2] <= 5))\n",
    "print(simple)\n",
    "print(simple.astype(int), end='\\n\\n')  # переведем это к виду 1 и 0\n",
    "\n",
    "# новый массив с 4 столбцами              hstack(arr1, arr2) - соединение по горизонтали\n",
    "new_arr2 = np.column_stack((arr2, simple))\n",
    "print(new_arr2)"
   ]
  },
  {
   "cell_type": "markdown",
   "id": "60603181",
   "metadata": {},
   "source": [
    "13. Выведите процент \"простых\" рецептов в датасете"
   ]
  },
  {
   "cell_type": "code",
   "execution_count": null,
   "id": "1c622c74",
   "metadata": {},
   "outputs": [],
   "source": [
    "# выделим столбец где указан тип рецепта \n",
    "simple = new_arr2[:,3]  # new_arr2 - с 4 столбцами, из 11)\n",
    "\n",
    "# количество простых рецептов\n",
    "count_simple = np.sum(simple)\n",
    "\n",
    "# процент простых\n",
    "print(f'{(count_simple / len(new_arr2)) * 100} %')"
   ]
  },
  {
   "cell_type": "markdown",
   "id": "c5129b9f",
   "metadata": {},
   "source": [
    "14. Разделим рецепты на группы по следующему правилу.\n",
    "Назовем рецепты короткими, если их продолжительность составляет менее 10 минут;\n",
    "стандартными, если их продолжительность составляет более 10, но менее 20 минут;\n",
    "длинными, если их продолжительность составляет не менее 20 минут.\n",
    "Создайте трехмерный массив, где нулевая ось отвечает за номер группы (короткий, стандартный или длинный рецепт), первая ось - за сам рецепт вторая ось - за характеристики рецепта.\n",
    "\n",
    "Выберите максимальное количество рецептов из каждой группы таким образом, чтобы было возможно сформировать трехмерный массив.\n",
    "\n",
    "Выведите форму полученного массива."
   ]
  },
  {
   "cell_type": "code",
   "execution_count": null,
   "id": "644c8916",
   "metadata": {},
   "outputs": [],
   "source": [
    "# разделим рецепты на группы\n",
    "short = arr2[arr2[:, 1] < 10]\n",
    "standard= arr2[(arr2[:, 1] >= 10) & (arr2[:, 1] < 20)]\n",
    "long = arr2[arr2[:, 1] >= 20]\n",
    "\n",
    "# для 1 оси размерность массива - мин значение из длин трех массивов\n",
    "axis_1 = min(len(long), len(standard),len(short))\n",
    "arr_3d = np.zeros((3, axis_1, 3), dtype=np.int32)\n",
    "\n",
    "# заполним \n",
    "arr_3d [0, :, :] = short[:axis_1]\n",
    "arr_3d [1, :, :] = standard[:axis_1]\n",
    "arr_3d [2, :, :] = long[:axis_1]\n",
    "\n",
    "print(f'форма массива {arr_3d.shape}')\n",
    "\n",
    "print(arr_3d[:,:10,:], end='\\n\\n')  # для 10 рецептов в каждой группе  (по оси 1)"
   ]
  }
 ],
 "metadata": {
  "kernelspec": {
   "display_name": "Python 3 (ipykernel)",
   "language": "python",
   "name": "python3"
  },
  "language_info": {
   "codemirror_mode": {
    "name": "ipython",
    "version": 3
   },
   "file_extension": ".py",
   "mimetype": "text/x-python",
   "name": "python",
   "nbconvert_exporter": "python",
   "pygments_lexer": "ipython3",
   "version": "3.11.5"
  }
 },
 "nbformat": 4,
 "nbformat_minor": 5
}
